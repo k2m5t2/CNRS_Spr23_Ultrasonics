{
 "cells": [
  {
   "cell_type": "code",
   "execution_count": null,
   "metadata": {},
   "outputs": [],
   "source": [
    "import pandas as pd\n",
    "import mat4py\n",
    "from mat4py import loadmat\n",
    "import scipy\n",
    "import numpy as np\n",
    "from scipy.fft import fft, ifft, fftfreq\n",
    "import matplotlib.pyplot as plt\n",
    "import seaborn as sns\n",
    "import matplotlib.colors as colors\n",
    "import matplotlib.cbook as cbook\n",
    "from matplotlib import cm\n",
    "import os\n",
    "os.system('reset')\n",
    "\n",
    "NoOfFiles = 8\n",
    "ExpData = {}\n",
    "ExpTime = {}\n",
    "ExpDist = {}\n",
    "\n",
    "for i in range(0,NoOfFiles):\n",
    "    FileName = 'Al_0125_'+str(i+1)+'.mat'\n",
    "    StructName = 'Al_0125_'+str(i+1)\n",
    "    ExpData[i] = loadmat(FileName)\n",
    "    ExpTime[i] = ExpData[i][StructName]['axisValues'][0]\n",
    "    ExpDist[i] = ExpData[i][StructName]['axisValues'][1]\n",
    "\n",
    "ExpNoYPosPoints = {}\n",
    "ExpNoTimePoints = {}\n",
    "# ExpSignalValues = {}\n",
    "ExpAmpMatrix = {}\n",
    "ExpAmpMatrixNorm = {}\n",
    "ExpNoXPosPoints = NoOfFiles\n",
    "ExpMaxAmpMatrix = np.empty(shape=(NoOfFiles,len(ExpDist[1])))\n",
    "                        \n",
    "for i in range(0,ExpNoXPosPoints):\n",
    "    ExpNoYPosPoints[i] = len(ExpDist[1])\n",
    "    ExpNoTimePoints[i] = len(ExpTime[1])\n",
    "    ExpAmpMatrix[i] = np.empty(shape=(ExpNoTimePoints[i],ExpNoYPosPoints[i]))\n",
    "    ExpAmpMatrixNorm[i] = np.empty(shape=(ExpNoTimePoints[i],ExpNoYPosPoints[i]))\n",
    "    for j in range(0,ExpNoYPosPoints[i]):\n",
    "        ExpSignalValues = list()\n",
    "        for k in range(0,ExpNoTimePoints[i]):\n",
    "            ExpSignalValues.append(ExpData[i]['Al_0125_'+str(i+1)]['data'][k][j])\n",
    "        ExpAmpMatrix[i][:,j] = ExpSignalValues\n",
    "        MaxAmpAbs = max(abs(v) for v in ExpSignalValues)\n",
    "        Normalized = [x / MaxAmpAbs for x in ExpSignalValues]\n",
    "        ExpAmpMatrixNorm[i][:,j] = Normalized\n",
    "        ExpMaxAmpMatrix[i,j] = MaxAmpAbs\n",
    "        ExpSignalValues = []\n",
    "\n",
    "# SAMPLE OF TIME SIGNAL OF A POINT (CHOOSE POINT INDEX 0-159)\n",
    "PointToPlot = 2\n",
    "plt.plot(ExpTime[PointToPlot],ExpAmpMatrixNorm[PointToPlot][:,PointToPlot],linewidth=0.5,color='r')\n",
    "plt.xlim([min(ExpTime[0]),max(ExpTime[0])])\n",
    "plt.ylim([-1.2,1.2])\n",
    "plt.title(\"Waveform at a point\")\n",
    "plt.xlabel(\"time (us)\")\n",
    "plt.ylabel(\"Amplitude (Norm)\")\n",
    "\n",
    "SignalIntDist = ExpMaxAmpMatrix\n",
    "xAxis = [0,0.25,0.5,0.75,1.00,1.25,1.50,1.75]\n",
    "fig, ax = plt.subplots()\n",
    "ax.pcolormesh(ExpDist[0], xAxis, SignalIntDist,\n",
    "              vmin=0.01, vmax=0.1, cmap='autumn', shading='auto')\n",
    "ax.set_frame_on(False)\n"
   ]
  }
 ],
 "metadata": {
  "kernelspec": {
   "display_name": "Python 3",
   "language": "python",
   "name": "python3"
  },
  "language_info": {
   "name": "python",
   "version": "3.11.1"
  },
  "orig_nbformat": 4,
  "vscode": {
   "interpreter": {
    "hash": "5c7b89af1651d0b8571dde13640ecdccf7d5a6204171d6ab33e7c296e100e08a"
   }
  }
 },
 "nbformat": 4,
 "nbformat_minor": 2
}
